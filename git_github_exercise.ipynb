{
  "nbformat": 4,
  "nbformat_minor": 0,
  "metadata": {
    "colab": {
      "provenance": [],
      "authorship_tag": "ABX9TyPQ5pGfSwA2fOq8wfyj2mkB",
      "include_colab_link": true
    },
    "kernelspec": {
      "name": "python3",
      "display_name": "Python 3"
    },
    "language_info": {
      "name": "python"
    }
  },
  "cells": [
    {
      "cell_type": "markdown",
      "metadata": {
        "id": "view-in-github",
        "colab_type": "text"
      },
      "source": [
        "<a href=\"https://colab.research.google.com/github/cmreyesvalencia-png/colab-git-demo-CR/blob/main/git_github_exercise.ipynb\" target=\"_parent\"><img src=\"https://colab.research.google.com/assets/colab-badge.svg\" alt=\"Open In Colab\"/></a>"
      ]
    },
    {
      "cell_type": "markdown",
      "source": [
        "# **Lab Activity 2**\n",
        "-  **Course:** Data Analytics and Business Intelligence Analyst\n",
        "-  **Institution:** Willis College\n",
        "-  **Student Name:**  Carlos Reyes\n",
        "-  **Date:** 2025 Oct, 30\n"
      ],
      "metadata": {
        "id": "8mjUdLkkhFui"
      }
    },
    {
      "cell_type": "markdown",
      "source": [
        "# **Set up Git**\n",
        "\n",
        "Create a New Notebook in Google Colab\n",
        "1. Go to Google Colab.\n",
        "2. Create a new notebook.\n",
        "3. In the first cell, run the following commands to set up Git. Replace \"your_email@example.com\" and \"Your Name\" with your GitHub email and username."
      ],
      "metadata": {
        "id": "GXjGm-OLh4Yq"
      }
    },
    {
      "cell_type": "code",
      "execution_count": null,
      "metadata": {
        "colab": {
          "base_uri": "https://localhost:8080/"
        },
        "id": "QAn180ZGYsmv",
        "outputId": "fd544f58-db5c-4366-9135-0a28465e17eb"
      },
      "outputs": [
        {
          "output_type": "stream",
          "name": "stdout",
          "text": [
            "Reading package lists... Done\n",
            "Building dependency tree... Done\n",
            "Reading state information... Done\n",
            "git is already the newest version (1:2.34.1-1ubuntu1.15).\n",
            "0 upgraded, 0 newly installed, 0 to remove and 38 not upgraded.\n"
          ]
        }
      ],
      "source": [
        "# Set up GIP\n",
        "\n",
        "!apt-get install -y git\n",
        "!git config --global user.email \"cmreyesvalencia@gmail.com\"\n",
        "!git config --global user.name \"cmreyesvalencia-png\""
      ]
    },
    {
      "cell_type": "markdown",
      "source": [
        "# Create a new Repository in GitHub and Clone it\n",
        "\n",
        "## Create a New Repository on GitHub\n",
        "1. Log in to your GitHub account.\n",
        "2. Click on the \"+\" icon in the top-right corner and select \"New repository.\"\n",
        "3. Name your repository (e.g., colab-git-demo-<your-initials>).\n",
        "4. Choose \"Public\" and initialize it with a README file.\n",
        "5. Click \"Create repository.\"\n",
        "\n",
        "## Clone the Repository\n",
        "1. In a new code cell in Colab, run the following command. Replace your_username and <your-initials> with your GitHub username and initials"
      ],
      "metadata": {
        "id": "qF-U9DMSidsg"
      }
    },
    {
      "cell_type": "code",
      "source": [
        "# Clone the Repository\n",
        "\n",
        "!git clone https://github.com/cmreyesvalencia-png/colab-git-demo-CR.git\n",
        "%cd colab-git-demo-CR\n",
        "!ls\n"
      ],
      "metadata": {
        "colab": {
          "base_uri": "https://localhost:8080/"
        },
        "id": "ZMNYmj0mcxB2",
        "outputId": "e655a4bf-c9df-4052-be94-00f4e58f278d"
      },
      "execution_count": null,
      "outputs": [
        {
          "output_type": "stream",
          "name": "stdout",
          "text": [
            "Cloning into 'colab-git-demo-CR'...\n",
            "remote: Enumerating objects: 9, done.\u001b[K\n",
            "remote: Counting objects: 100% (9/9), done.\u001b[K\n",
            "remote: Compressing objects: 100% (7/7), done.\u001b[K\n",
            "remote: Total 9 (delta 1), reused 0 (delta 0), pack-reused 0 (from 0)\u001b[K\n",
            "Receiving objects: 100% (9/9), done.\n",
            "Resolving deltas: 100% (1/1), done.\n",
            "/content/colab-git-demo-CR\n",
            "Lab2_C11.ipynb\tLab2_C12.ipynb\tREADME.md\n"
          ]
        }
      ]
    },
    {
      "cell_type": "code",
      "source": [
        "# Confirm you are inside a Git repository\n",
        "\n",
        "!git status"
      ],
      "metadata": {
        "colab": {
          "base_uri": "https://localhost:8080/"
        },
        "id": "P1xVSO3jhiBD",
        "outputId": "c01fca7d-20a6-4480-f77d-8b92b9c0ff3a"
      },
      "execution_count": null,
      "outputs": [
        {
          "output_type": "stream",
          "name": "stdout",
          "text": [
            "On branch main\n",
            "Your branch is up to date with 'origin/main'.\n",
            "\n",
            "nothing to commit, working tree clean\n"
          ]
        }
      ]
    },
    {
      "cell_type": "markdown",
      "source": [
        "# Modify the Jupyter Notebook\n",
        "1. Go to File > Save a copy in GitHub.\n",
        "2. Save the notebook in your repository as git_github_exercise.ipynb.\n",
        "3. Add the following to your notebook:\n"
      ],
      "metadata": {
        "id": "kmmdd2rAjdgG"
      }
    },
    {
      "cell_type": "markdown",
      "source": [
        "# Git and GitHub Exercise  \n",
        "This notebook demonstrates basic Git operations."
      ],
      "metadata": {
        "id": "IlvFAD7ajU7A"
      }
    },
    {
      "cell_type": "code",
      "source": [
        "def greet(name):\n",
        "    return f\"Hello, {name}! Welcome to Git and GitHub.\"\n",
        "print(greet(\"Learner\"))"
      ],
      "metadata": {
        "colab": {
          "base_uri": "https://localhost:8080/"
        },
        "id": "ovwM7aXujWqN",
        "outputId": "35b9905f-3de9-43fa-d4b6-65a91be96365"
      },
      "execution_count": null,
      "outputs": [
        {
          "output_type": "stream",
          "name": "stdout",
          "text": [
            "Hello, Learner! Welcome to Git and GitHub.\n"
          ]
        }
      ]
    },
    {
      "cell_type": "markdown",
      "source": [
        "# Navigate to folder in your drive to add ipynb file into github repository.\n",
        "cd /content/drive/MyDrive/Colab Notebooks"
      ],
      "metadata": {
        "id": "kXl9aO95kWMv"
      }
    },
    {
      "cell_type": "code",
      "source": [
        "# Run the following command to rename the branch to main\n",
        "\n",
        "!git branch -m main"
      ],
      "metadata": {
        "id": "jQjIRA0rkeT8"
      },
      "execution_count": null,
      "outputs": []
    },
    {
      "cell_type": "code",
      "source": [
        "# Verify the branch name\n",
        "\n",
        "!git branch"
      ],
      "metadata": {
        "colab": {
          "base_uri": "https://localhost:8080/"
        },
        "id": "KED7wRXQkk-8",
        "outputId": "df405cad-d633-4a99-830c-92fdeaa790c2"
      },
      "execution_count": null,
      "outputs": [
        {
          "output_type": "stream",
          "name": "stdout",
          "text": [
            "* \u001b[32mmain\u001b[m\n"
          ]
        }
      ]
    },
    {
      "cell_type": "markdown",
      "source": [
        "# **Commit and Push Changes**"
      ],
      "metadata": {
        "id": "XOKo2VRukqec"
      }
    },
    {
      "cell_type": "code",
      "source": [
        "# Mounting Google Drive\n",
        "from google.colab import drive\n",
        "drive.mount('/content/drive')"
      ],
      "metadata": {
        "colab": {
          "base_uri": "https://localhost:8080/"
        },
        "id": "pNaYzY_SlxFX",
        "outputId": "1b32b592-94d5-4461-ac53-f865e7191c94"
      },
      "execution_count": null,
      "outputs": [
        {
          "output_type": "stream",
          "name": "stdout",
          "text": [
            "Mounted at /content/drive\n"
          ]
        }
      ]
    },
    {
      "cell_type": "code",
      "source": [
        "# Run the following commands in a new code cell:\n",
        "\n",
        "!git add git_github_exercise.ipynb\n",
        "!git commit -m \"Add initial notebook with greeting function\"\n",
        "!git remote add origin https://github.com/<cmreyesvalencia-png>/<colab-git-demo-CR>.git\n",
        "!git push origin"
      ],
      "metadata": {
        "colab": {
          "base_uri": "https://localhost:8080/"
        },
        "id": "yKELAaFpku7e",
        "outputId": "3a7b24e5-e1cf-4137-9649-7231cacfaa86"
      },
      "execution_count": null,
      "outputs": [
        {
          "output_type": "stream",
          "name": "stdout",
          "text": [
            "fatal: pathspec 'git_github_exercise.ipynb' did not match any files\n",
            "On branch main\n",
            "Your branch is up to date with 'origin/main'.\n",
            "\n",
            "nothing to commit, working tree clean\n",
            "/bin/bash: line 1: cmreyesvalencia-png: No such file or directory\n",
            "fatal: could not read Username for 'https://github.com': No such device or address\n"
          ]
        }
      ]
    }
  ]
}